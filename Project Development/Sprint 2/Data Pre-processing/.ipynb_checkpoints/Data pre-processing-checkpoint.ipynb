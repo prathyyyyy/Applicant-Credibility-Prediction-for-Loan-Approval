{
 "cells": [
  {
   "cell_type": "code",
   "execution_count": 82,
   "id": "b0ea12f4",
   "metadata": {},
   "outputs": [],
   "source": [
    "import pandas as pd\n",
    "import numpy as np\n",
    "import seaborn as sb\n",
    "import matplotlib.pyplot as plt\n",
    "import sklearn\n",
    "import imblearn\n",
    "from imblearn.combine import SMOTETomek\n",
    "from sklearn.ensemble import GradientBoostingClassifier,RandomForestClassifier\n",
    "from sklearn.tree import DecisionTreeClassifier\n",
    "from sklearn.neighbors import KNeighborsClassifier\n",
    "from sklearn.preprocessing import StandardScaler\n",
    "from sklearn.model_selection import train_test_split\n",
    "import warnings\n",
    "warnings.filterwarnings('ignore')\n",
    "from sklearn.metrics import accuracy_score,classification_report,confusion_matrix,f1_score"
   ]
  },
  {
   "cell_type": "code",
   "execution_count": 2,
   "id": "f965e5eb",
   "metadata": {},
   "outputs": [
    {
     "data": {
      "text/html": [
       "<div>\n",
       "<style scoped>\n",
       "    .dataframe tbody tr th:only-of-type {\n",
       "        vertical-align: middle;\n",
       "    }\n",
       "\n",
       "    .dataframe tbody tr th {\n",
       "        vertical-align: top;\n",
       "    }\n",
       "\n",
       "    .dataframe thead th {\n",
       "        text-align: right;\n",
       "    }\n",
       "</style>\n",
       "<table border=\"1\" class=\"dataframe\">\n",
       "  <thead>\n",
       "    <tr style=\"text-align: right;\">\n",
       "      <th></th>\n",
       "      <th>Loan_ID</th>\n",
       "      <th>Gender</th>\n",
       "      <th>Married</th>\n",
       "      <th>Dependents</th>\n",
       "      <th>Education</th>\n",
       "      <th>Self_Employed</th>\n",
       "      <th>ApplicantIncome</th>\n",
       "      <th>CoapplicantIncome</th>\n",
       "      <th>LoanAmount</th>\n",
       "      <th>Loan_Amount_Term</th>\n",
       "      <th>Credit_History</th>\n",
       "      <th>Property_Area</th>\n",
       "      <th>Loan_Status</th>\n",
       "    </tr>\n",
       "  </thead>\n",
       "  <tbody>\n",
       "    <tr>\n",
       "      <th>0</th>\n",
       "      <td>LP001002</td>\n",
       "      <td>Male</td>\n",
       "      <td>No</td>\n",
       "      <td>0</td>\n",
       "      <td>Graduate</td>\n",
       "      <td>No</td>\n",
       "      <td>5849</td>\n",
       "      <td>0.0</td>\n",
       "      <td>NaN</td>\n",
       "      <td>360.0</td>\n",
       "      <td>1.0</td>\n",
       "      <td>Urban</td>\n",
       "      <td>Y</td>\n",
       "    </tr>\n",
       "    <tr>\n",
       "      <th>1</th>\n",
       "      <td>LP001003</td>\n",
       "      <td>Male</td>\n",
       "      <td>Yes</td>\n",
       "      <td>1</td>\n",
       "      <td>Graduate</td>\n",
       "      <td>No</td>\n",
       "      <td>4583</td>\n",
       "      <td>1508.0</td>\n",
       "      <td>128.0</td>\n",
       "      <td>360.0</td>\n",
       "      <td>1.0</td>\n",
       "      <td>Rural</td>\n",
       "      <td>N</td>\n",
       "    </tr>\n",
       "    <tr>\n",
       "      <th>2</th>\n",
       "      <td>LP001005</td>\n",
       "      <td>Male</td>\n",
       "      <td>Yes</td>\n",
       "      <td>0</td>\n",
       "      <td>Graduate</td>\n",
       "      <td>Yes</td>\n",
       "      <td>3000</td>\n",
       "      <td>0.0</td>\n",
       "      <td>66.0</td>\n",
       "      <td>360.0</td>\n",
       "      <td>1.0</td>\n",
       "      <td>Urban</td>\n",
       "      <td>Y</td>\n",
       "    </tr>\n",
       "    <tr>\n",
       "      <th>3</th>\n",
       "      <td>LP001006</td>\n",
       "      <td>Male</td>\n",
       "      <td>Yes</td>\n",
       "      <td>0</td>\n",
       "      <td>Not Graduate</td>\n",
       "      <td>No</td>\n",
       "      <td>2583</td>\n",
       "      <td>2358.0</td>\n",
       "      <td>120.0</td>\n",
       "      <td>360.0</td>\n",
       "      <td>1.0</td>\n",
       "      <td>Urban</td>\n",
       "      <td>Y</td>\n",
       "    </tr>\n",
       "    <tr>\n",
       "      <th>4</th>\n",
       "      <td>LP001008</td>\n",
       "      <td>Male</td>\n",
       "      <td>No</td>\n",
       "      <td>0</td>\n",
       "      <td>Graduate</td>\n",
       "      <td>No</td>\n",
       "      <td>6000</td>\n",
       "      <td>0.0</td>\n",
       "      <td>141.0</td>\n",
       "      <td>360.0</td>\n",
       "      <td>1.0</td>\n",
       "      <td>Urban</td>\n",
       "      <td>Y</td>\n",
       "    </tr>\n",
       "  </tbody>\n",
       "</table>\n",
       "</div>"
      ],
      "text/plain": [
       "    Loan_ID Gender Married Dependents     Education Self_Employed  \\\n",
       "0  LP001002   Male      No          0      Graduate            No   \n",
       "1  LP001003   Male     Yes          1      Graduate            No   \n",
       "2  LP001005   Male     Yes          0      Graduate           Yes   \n",
       "3  LP001006   Male     Yes          0  Not Graduate            No   \n",
       "4  LP001008   Male      No          0      Graduate            No   \n",
       "\n",
       "   ApplicantIncome  CoapplicantIncome  LoanAmount  Loan_Amount_Term  \\\n",
       "0             5849                0.0         NaN             360.0   \n",
       "1             4583             1508.0       128.0             360.0   \n",
       "2             3000                0.0        66.0             360.0   \n",
       "3             2583             2358.0       120.0             360.0   \n",
       "4             6000                0.0       141.0             360.0   \n",
       "\n",
       "   Credit_History Property_Area Loan_Status  \n",
       "0             1.0         Urban           Y  \n",
       "1             1.0         Rural           N  \n",
       "2             1.0         Urban           Y  \n",
       "3             1.0         Urban           Y  \n",
       "4             1.0         Urban           Y  "
      ]
     },
     "execution_count": 2,
     "metadata": {},
     "output_type": "execute_result"
    }
   ],
   "source": [
    "ds=pd.read_csv(\"C:\\loan_prediction.csv\")\n",
    "ds.head()"
   ]
  },
  {
   "cell_type": "code",
   "execution_count": 5,
   "id": "b8275b46",
   "metadata": {},
   "outputs": [
    {
     "name": "stdout",
     "output_type": "stream",
     "text": [
      "<class 'pandas.core.frame.DataFrame'>\n",
      "RangeIndex: 614 entries, 0 to 613\n",
      "Data columns (total 13 columns):\n",
      " #   Column             Non-Null Count  Dtype  \n",
      "---  ------             --------------  -----  \n",
      " 0   Loan_ID            614 non-null    object \n",
      " 1   Gender             601 non-null    object \n",
      " 2   Married            611 non-null    object \n",
      " 3   Dependents         599 non-null    object \n",
      " 4   Education          614 non-null    object \n",
      " 5   Self_Employed      582 non-null    object \n",
      " 6   ApplicantIncome    614 non-null    int64  \n",
      " 7   CoapplicantIncome  614 non-null    float64\n",
      " 8   LoanAmount         592 non-null    float64\n",
      " 9   Loan_Amount_Term   600 non-null    float64\n",
      " 10  Credit_History     564 non-null    float64\n",
      " 11  Property_Area      614 non-null    object \n",
      " 12  Loan_Status        614 non-null    object \n",
      "dtypes: float64(4), int64(1), object(8)\n",
      "memory usage: 62.5+ KB\n"
     ]
    }
   ],
   "source": [
    "ds.info()"
   ]
  },
  {
   "cell_type": "code",
   "execution_count": 29,
   "id": "af693d41",
   "metadata": {},
   "outputs": [
    {
     "data": {
      "text/plain": [
       "(614, 13)"
      ]
     },
     "execution_count": 29,
     "metadata": {},
     "output_type": "execute_result"
    }
   ],
   "source": [
    "ds.shape"
   ]
  },
  {
   "cell_type": "markdown",
   "id": "60d116f5",
   "metadata": {},
   "source": [
    "# Checking for Null values"
   ]
  },
  {
   "cell_type": "code",
   "execution_count": 6,
   "id": "47b1c913",
   "metadata": {},
   "outputs": [
    {
     "data": {
      "text/plain": [
       "Loan_ID               0\n",
       "Gender               13\n",
       "Married               3\n",
       "Dependents           15\n",
       "Education             0\n",
       "Self_Employed        32\n",
       "ApplicantIncome       0\n",
       "CoapplicantIncome     0\n",
       "LoanAmount           22\n",
       "Loan_Amount_Term     14\n",
       "Credit_History       50\n",
       "Property_Area         0\n",
       "Loan_Status           0\n",
       "dtype: int64"
      ]
     },
     "execution_count": 6,
     "metadata": {},
     "output_type": "execute_result"
    }
   ],
   "source": [
    "ds.isnull().sum()"
   ]
  },
  {
   "cell_type": "code",
   "execution_count": 91,
   "id": "ff72e79e",
   "metadata": {},
   "outputs": [],
   "source": [
    "#replacing null values\n",
    "ds['Self_Employed']=ds['Self_Employed'].fillna(ds['Self_Employed'].mode()[0])\n",
    "ds['Gender'] = ds['Gender'].fillna(ds['Gender'].mode()[0])\n",
    "ds['Married']=ds['Married'].fillna(ds['Married'].mode()[0])\n",
    "ds['Dependents']=ds['Dependents'].fillna(ds['Dependents'].mode()[0])\n",
    "ds['Self_Employed']=ds['Self_Employed'].fillna(ds['Self_Employed'].mode()[0])\n",
    "ds['LoanAmount']=ds['LoanAmount'].fillna(ds['LoanAmount'].mode()[0])\n",
    "ds['Loan_Amount_Term']=ds['Loan_Amount_Term'].fillna(ds['Loan_Amount_Term'].mode()[0])\n",
    "ds['Credit_History']=ds['Credit_History'].fillna(ds['Credit_History'].mode()[0])"
   ]
  },
  {
   "cell_type": "markdown",
   "id": "164743c4",
   "metadata": {},
   "source": [
    "# Handling Categorical Values"
   ]
  },
  {
   "cell_type": "code",
   "execution_count": 34,
   "id": "f759e801",
   "metadata": {},
   "outputs": [
    {
     "data": {
      "text/plain": [
       "Index(['Loan_ID', 'Gender', 'Married', 'Dependents', 'Education',\n",
       "       'Self_Employed', 'Property_Area', 'Loan_Status'],\n",
       "      dtype='object')"
      ]
     },
     "execution_count": 34,
     "metadata": {},
     "output_type": "execute_result"
    }
   ],
   "source": [
    "ds.select_dtypes(include='object').columns"
   ]
  },
  {
   "cell_type": "code",
   "execution_count": 36,
   "id": "84be95cc",
   "metadata": {},
   "outputs": [
    {
     "data": {
      "text/plain": [
       "array(['Male', 'Female', nan], dtype=object)"
      ]
     },
     "execution_count": 36,
     "metadata": {},
     "output_type": "execute_result"
    }
   ],
   "source": [
    "ds['Gender'].unique()"
   ]
  },
  {
   "cell_type": "code",
   "execution_count": 37,
   "id": "ff35f015",
   "metadata": {},
   "outputs": [
    {
     "data": {
      "text/plain": [
       "array(['No', 'Yes'], dtype=object)"
      ]
     },
     "execution_count": 37,
     "metadata": {},
     "output_type": "execute_result"
    }
   ],
   "source": [
    "ds['Gender'].replace({'Male':1,'Female':0},inplace=True)\n",
    "ds['Married'].unique()"
   ]
  },
  {
   "cell_type": "code",
   "execution_count": 38,
   "id": "46572a7f",
   "metadata": {},
   "outputs": [
    {
     "data": {
      "text/plain": [
       "array(['0', '1', '2', '3'], dtype=object)"
      ]
     },
     "execution_count": 38,
     "metadata": {},
     "output_type": "execute_result"
    }
   ],
   "source": [
    "ds['Married'].replace({'Yes':1,'No':0},inplace=True)\n",
    "ds['Dependents'].unique()"
   ]
  },
  {
   "cell_type": "code",
   "execution_count": 39,
   "id": "b32fc729",
   "metadata": {},
   "outputs": [
    {
     "data": {
      "text/plain": [
       "array(['No', 'Yes'], dtype=object)"
      ]
     },
     "execution_count": 39,
     "metadata": {},
     "output_type": "execute_result"
    }
   ],
   "source": [
    "ds['Dependents'].replace({'0':0,'1':1,'2':2,'3':3},inplace=True)\n",
    "ds['Self_Employed'].unique()"
   ]
  },
  {
   "cell_type": "code",
   "execution_count": 40,
   "id": "3c789c20",
   "metadata": {},
   "outputs": [
    {
     "data": {
      "text/plain": [
       "array(['Urban', 'Rural', 'Semiurban'], dtype=object)"
      ]
     },
     "execution_count": 40,
     "metadata": {},
     "output_type": "execute_result"
    }
   ],
   "source": [
    "ds['Self_Employed'].replace({'Yes':1,'No':0},inplace=True)\n",
    "ds['Property_Area'].unique()"
   ]
  },
  {
   "cell_type": "code",
   "execution_count": 41,
   "id": "7599735b",
   "metadata": {},
   "outputs": [
    {
     "data": {
      "text/plain": [
       "array(['Y', 'N'], dtype=object)"
      ]
     },
     "execution_count": 41,
     "metadata": {},
     "output_type": "execute_result"
    }
   ],
   "source": [
    "ds['Property_Area'].replace({'Urban':2,'Rural':0,'Semiurban':1},inplace=True)\n",
    "ds['Loan_Status'].unique()"
   ]
  },
  {
   "cell_type": "code",
   "execution_count": 42,
   "id": "38f36a12",
   "metadata": {},
   "outputs": [
    {
     "data": {
      "text/plain": [
       "array(['Graduate', 'Not Graduate'], dtype=object)"
      ]
     },
     "execution_count": 42,
     "metadata": {},
     "output_type": "execute_result"
    }
   ],
   "source": [
    "ds['Loan_Status'].replace({'Y':1,'N':0},inplace=True)\n",
    "ds['Education'].unique()"
   ]
  },
  {
   "cell_type": "code",
   "execution_count": 93,
   "id": "3a78f589",
   "metadata": {},
   "outputs": [],
   "source": [
    "ds['Education'].replace({'Graduate':1,'Not Graduate':0},inplace=True)\n",
    "ds['CoapplicantIncome']=ds['CoapplicantIncome'].astype(\"int64\")\n",
    "ds['LoanAmount']=ds['LoanAmount'].astype(\"int64\")\n",
    "ds['Loan_Amount_Term']=ds['Loan_Amount_Term'].astype(\"int64\")\n",
    "ds['Credit_History']=ds['Credit_History'].astype(\"int64\")\n",
    "ds['Self_Employed']=ds['Self_Employed'].astype(\"int64\")\n",
    "ds['Dependents']=ds['Dependents'].astype(\"int64\")\n",
    "ds['Married']=ds['Married'].astype(\"int64\")\n",
    "ds['Gender']=ds['Gender'].astype(\"int64\")"
   ]
  },
  {
   "cell_type": "markdown",
   "id": "c893cdf8",
   "metadata": {},
   "source": [
    "# Balancing Dataset"
   ]
  },
  {
   "cell_type": "code",
   "execution_count": 48,
   "id": "ea199a33",
   "metadata": {},
   "outputs": [],
   "source": [
    "sm=SMOTETomek(0.90)"
   ]
  },
  {
   "cell_type": "code",
   "execution_count": 70,
   "id": "4bad2255",
   "metadata": {},
   "outputs": [],
   "source": [
    "y=ds['Loan_Status']\n",
    "x=ds.drop(columns=['Loan_Status'],axis=1)"
   ]
  },
  {
   "cell_type": "code",
   "execution_count": 73,
   "id": "b85c9fe5",
   "metadata": {
    "scrolled": true
   },
   "outputs": [],
   "source": [
    "xb,yb = sm.fit_resample(x,y)"
   ]
  },
  {
   "cell_type": "code",
   "execution_count": 19,
   "id": "6e0676e8",
   "metadata": {},
   "outputs": [
    {
     "name": "stdout",
     "output_type": "stream",
     "text": [
      "Y    422\n",
      "N    192\n",
      "Name: Loan_Status, dtype: int64\n"
     ]
    }
   ],
   "source": [
    "print(y.value_counts())"
   ]
  },
  {
   "cell_type": "code",
   "execution_count": 74,
   "id": "f22d47d2",
   "metadata": {},
   "outputs": [
    {
     "name": "stdout",
     "output_type": "stream",
     "text": [
      "1    359\n",
      "0    316\n",
      "Name: Loan_Status, dtype: int64\n"
     ]
    }
   ],
   "source": [
    "print(yb.value_counts())"
   ]
  },
  {
   "cell_type": "markdown",
   "id": "b4c5d434",
   "metadata": {},
   "source": [
    "# Scaling The Data"
   ]
  },
  {
   "cell_type": "code",
   "execution_count": 77,
   "id": "4039d272",
   "metadata": {},
   "outputs": [],
   "source": [
    "sc=StandardScaler()"
   ]
  },
  {
   "cell_type": "code",
   "execution_count": 78,
   "id": "43f37bed",
   "metadata": {},
   "outputs": [],
   "source": [
    "xb=sc.fit_transform(xb)"
   ]
  },
  {
   "cell_type": "code",
   "execution_count": 80,
   "id": "c4847c47",
   "metadata": {},
   "outputs": [],
   "source": [
    "xb=pd.DataFrame(xb)"
   ]
  },
  {
   "cell_type": "code",
   "execution_count": 81,
   "id": "40387542",
   "metadata": {},
   "outputs": [
    {
     "data": {
      "text/html": [
       "<div>\n",
       "<style scoped>\n",
       "    .dataframe tbody tr th:only-of-type {\n",
       "        vertical-align: middle;\n",
       "    }\n",
       "\n",
       "    .dataframe tbody tr th {\n",
       "        vertical-align: top;\n",
       "    }\n",
       "\n",
       "    .dataframe thead th {\n",
       "        text-align: right;\n",
       "    }\n",
       "</style>\n",
       "<table border=\"1\" class=\"dataframe\">\n",
       "  <thead>\n",
       "    <tr style=\"text-align: right;\">\n",
       "      <th></th>\n",
       "      <th>0</th>\n",
       "      <th>1</th>\n",
       "      <th>2</th>\n",
       "      <th>3</th>\n",
       "      <th>4</th>\n",
       "      <th>5</th>\n",
       "      <th>6</th>\n",
       "      <th>7</th>\n",
       "      <th>8</th>\n",
       "      <th>9</th>\n",
       "      <th>10</th>\n",
       "      <th>11</th>\n",
       "    </tr>\n",
       "  </thead>\n",
       "  <tbody>\n",
       "    <tr>\n",
       "      <th>0</th>\n",
       "      <td>-1.762415</td>\n",
       "      <td>0.496679</td>\n",
       "      <td>-1.195014</td>\n",
       "      <td>-0.746049</td>\n",
       "      <td>0.605307</td>\n",
       "      <td>-0.331960</td>\n",
       "      <td>0.135557</td>\n",
       "      <td>-0.529444</td>\n",
       "      <td>-0.297085</td>\n",
       "      <td>0.281662</td>\n",
       "      <td>0.582482</td>\n",
       "      <td>1.359418</td>\n",
       "    </tr>\n",
       "    <tr>\n",
       "      <th>1</th>\n",
       "      <td>-1.756612</td>\n",
       "      <td>0.496679</td>\n",
       "      <td>0.836811</td>\n",
       "      <td>0.275418</td>\n",
       "      <td>0.605307</td>\n",
       "      <td>-0.331960</td>\n",
       "      <td>-0.102179</td>\n",
       "      <td>-0.048306</td>\n",
       "      <td>-0.195046</td>\n",
       "      <td>0.281662</td>\n",
       "      <td>0.582482</td>\n",
       "      <td>-1.240036</td>\n",
       "    </tr>\n",
       "    <tr>\n",
       "      <th>2</th>\n",
       "      <td>-1.750809</td>\n",
       "      <td>0.496679</td>\n",
       "      <td>0.836811</td>\n",
       "      <td>-0.746049</td>\n",
       "      <td>0.605307</td>\n",
       "      <td>3.012412</td>\n",
       "      <td>-0.399443</td>\n",
       "      <td>-0.529444</td>\n",
       "      <td>-0.985850</td>\n",
       "      <td>0.281662</td>\n",
       "      <td>0.582482</td>\n",
       "      <td>1.359418</td>\n",
       "    </tr>\n",
       "    <tr>\n",
       "      <th>3</th>\n",
       "      <td>-1.745007</td>\n",
       "      <td>0.496679</td>\n",
       "      <td>0.836811</td>\n",
       "      <td>-0.746049</td>\n",
       "      <td>-1.652054</td>\n",
       "      <td>-0.331960</td>\n",
       "      <td>-0.477750</td>\n",
       "      <td>0.222893</td>\n",
       "      <td>-0.297085</td>\n",
       "      <td>0.281662</td>\n",
       "      <td>0.582482</td>\n",
       "      <td>1.359418</td>\n",
       "    </tr>\n",
       "    <tr>\n",
       "      <th>4</th>\n",
       "      <td>-1.739204</td>\n",
       "      <td>0.496679</td>\n",
       "      <td>-1.195014</td>\n",
       "      <td>-0.746049</td>\n",
       "      <td>0.605307</td>\n",
       "      <td>-0.331960</td>\n",
       "      <td>0.163912</td>\n",
       "      <td>-0.529444</td>\n",
       "      <td>-0.029232</td>\n",
       "      <td>0.281662</td>\n",
       "      <td>0.582482</td>\n",
       "      <td>1.359418</td>\n",
       "    </tr>\n",
       "  </tbody>\n",
       "</table>\n",
       "</div>"
      ],
      "text/plain": [
       "         0         1         2         3         4         5         6   \\\n",
       "0 -1.762415  0.496679 -1.195014 -0.746049  0.605307 -0.331960  0.135557   \n",
       "1 -1.756612  0.496679  0.836811  0.275418  0.605307 -0.331960 -0.102179   \n",
       "2 -1.750809  0.496679  0.836811 -0.746049  0.605307  3.012412 -0.399443   \n",
       "3 -1.745007  0.496679  0.836811 -0.746049 -1.652054 -0.331960 -0.477750   \n",
       "4 -1.739204  0.496679 -1.195014 -0.746049  0.605307 -0.331960  0.163912   \n",
       "\n",
       "         7         8         9         10        11  \n",
       "0 -0.529444 -0.297085  0.281662  0.582482  1.359418  \n",
       "1 -0.048306 -0.195046  0.281662  0.582482 -1.240036  \n",
       "2 -0.529444 -0.985850  0.281662  0.582482  1.359418  \n",
       "3  0.222893 -0.297085  0.281662  0.582482  1.359418  \n",
       "4 -0.529444 -0.029232  0.281662  0.582482  1.359418  "
      ]
     },
     "execution_count": 81,
     "metadata": {},
     "output_type": "execute_result"
    }
   ],
   "source": [
    "xb.head()"
   ]
  },
  {
   "cell_type": "markdown",
   "id": "6aac0f18",
   "metadata": {},
   "source": [
    "# Splitting Data Into Train And Test"
   ]
  },
  {
   "cell_type": "code",
   "execution_count": 83,
   "id": "8c9a47e6",
   "metadata": {},
   "outputs": [],
   "source": [
    "x_train, x_test, y_train, y_test = train_test_split(x_bal, y_bal, test_size = 0.33, random_state = 42)"
   ]
  },
  {
   "cell_type": "code",
   "execution_count": 84,
   "id": "dabdbcc6",
   "metadata": {},
   "outputs": [
    {
     "data": {
      "text/plain": [
       "(457, 12)"
      ]
     },
     "execution_count": 84,
     "metadata": {},
     "output_type": "execute_result"
    }
   ],
   "source": [
    "x_train.shape"
   ]
  },
  {
   "cell_type": "code",
   "execution_count": 85,
   "id": "24a2ea99",
   "metadata": {},
   "outputs": [
    {
     "data": {
      "text/plain": [
       "(226, 12)"
      ]
     },
     "execution_count": 85,
     "metadata": {},
     "output_type": "execute_result"
    }
   ],
   "source": [
    "x_test.shape"
   ]
  },
  {
   "cell_type": "code",
   "execution_count": 86,
   "id": "8749c04b",
   "metadata": {},
   "outputs": [
    {
     "data": {
      "text/plain": [
       "(457,)"
      ]
     },
     "execution_count": 86,
     "metadata": {},
     "output_type": "execute_result"
    }
   ],
   "source": [
    "y_train.shape"
   ]
  },
  {
   "cell_type": "code",
   "execution_count": 87,
   "id": "d9d0909a",
   "metadata": {},
   "outputs": [
    {
     "data": {
      "text/plain": [
       "(226,)"
      ]
     },
     "execution_count": 87,
     "metadata": {},
     "output_type": "execute_result"
    }
   ],
   "source": [
    "y_test.shape"
   ]
  },
  {
   "cell_type": "code",
   "execution_count": null,
   "id": "5a23e494",
   "metadata": {},
   "outputs": [],
   "source": []
  }
 ],
 "metadata": {
  "kernelspec": {
   "display_name": "Python 3 (ipykernel)",
   "language": "python",
   "name": "python3"
  },
  "language_info": {
   "codemirror_mode": {
    "name": "ipython",
    "version": 3
   },
   "file_extension": ".py",
   "mimetype": "text/x-python",
   "name": "python",
   "nbconvert_exporter": "python",
   "pygments_lexer": "ipython3",
   "version": "3.10.6"
  }
 },
 "nbformat": 4,
 "nbformat_minor": 5
}
